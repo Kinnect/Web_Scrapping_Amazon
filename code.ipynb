{
 "cells": [
  {
   "cell_type": "code",
   "execution_count": 1,
   "source": [
    "#Importing libraries \n",
    "\n",
    "from bs4 import BeautifulSoup\n",
    "import requests\n",
    "import smtplib\n",
    "import time\n",
    "import datetime"
   ],
   "outputs": [],
   "metadata": {}
  },
  {
   "cell_type": "code",
   "execution_count": 10,
   "source": [
    "#View title and price\n",
    "\n",
    "URL = 'https://www.amazon.com/100pcs-Disposable-Breathable-Filter-Elastic/dp/B08GS4CNWB'\n",
    "\n",
    "headers = {\"User-Agent\": \"Mozilla/5.0 (Macintosh; Intel Mac OS X 10_15_7) AppleWebKit/605.1.15 (KHTML, like Gecko) Version/14.1.2 Safari/605.1.15\",  \"Accept-Encoding\":\"gzip, deflate\", \"Accept\":\"text/html,application/xhtml+xml,application/xml;q=0.9,*/*;q=0.8\", \"DNT\":\"1\",\"Connection\":\"close\", \"Upgrade-Insecure-Requests\":\"1\"}\n",
    "\n",
    "page = requests.get(URL, headers=headers)\n",
    "\n",
    "soup1 = BeautifulSoup(page.content, \"lxml\")\n",
    "\n",
    "soup2 = BeautifulSoup(soup1.prettify(), \"lxml\")\n",
    "\n",
    "title = soup2.find(id='productTitle').get_text()\n",
    "\n",
    "price = soup2.find(id='priceblock_dealprice').get_text()\n",
    "\n",
    "#print(soup1)\n",
    "#print(soup2)\n",
    "print(title)\n",
    "print(price)"
   ],
   "outputs": [
    {
     "output_type": "stream",
     "name": "stdout",
     "text": [
      "\n",
      "           Black Face Mask 100pcs Disposable Masks Breathable 3 Layer Dust Filter Masks Mouth Cover for Adult Men & Women\n",
      "          \n",
      "\n",
      "              $13.98\n",
      "             \n"
     ]
    }
   ],
   "metadata": {}
  },
  {
   "cell_type": "code",
   "execution_count": 14,
   "source": [
    "#Strip title and price\n",
    "\n",
    "title = title.strip()\n",
    "price = price.strip()[1:]\n",
    "\n",
    "print(title)\n",
    "print(price)"
   ],
   "outputs": [
    {
     "output_type": "stream",
     "name": "stdout",
     "text": [
      "Black Face Mask 100pcs Disposable Masks Breathable 3 Layer Dust Filter Masks Mouth Cover for Adult Men & Women\n",
      "3.98\n"
     ]
    }
   ],
   "metadata": {}
  },
  {
   "cell_type": "code",
   "execution_count": 19,
   "source": [
    "#Add time to data\n",
    "\n",
    "import datetime\n",
    "\n",
    "today = datetime.date.today()\n",
    "\n",
    "print(today)"
   ],
   "outputs": [
    {
     "output_type": "stream",
     "name": "stdout",
     "text": [
      "2021-09-30\n"
     ]
    }
   ],
   "metadata": {}
  },
  {
   "cell_type": "code",
   "execution_count": 22,
   "source": [
    "#Create new csv with data\n",
    "\n",
    "import csv\n",
    "header = ['Date', 'Title', 'Price']\n",
    "data = [today, title, price]\n",
    "\n",
    "with open('AmazonWebScraperDataset.csv', 'w', newline='', encoding='UTF8') as x:\n",
    "    writer = csv.writer(x)\n",
    "    writer.writerow(header)\n",
    "    writer.writerow(data)"
   ],
   "outputs": [],
   "metadata": {}
  },
  {
   "cell_type": "code",
   "execution_count": 25,
   "source": [
    "#View data on csv \n",
    "\n",
    "import pandas as pd\n",
    "\n",
    "pd.read_csv('/Users/kevin/Desktop/Web_scraping/AmazonWebScraperDataset.csv')"
   ],
   "outputs": [
    {
     "output_type": "execute_result",
     "data": {
      "text/html": [
       "<div>\n",
       "<style scoped>\n",
       "    .dataframe tbody tr th:only-of-type {\n",
       "        vertical-align: middle;\n",
       "    }\n",
       "\n",
       "    .dataframe tbody tr th {\n",
       "        vertical-align: top;\n",
       "    }\n",
       "\n",
       "    .dataframe thead th {\n",
       "        text-align: right;\n",
       "    }\n",
       "</style>\n",
       "<table border=\"1\" class=\"dataframe\">\n",
       "  <thead>\n",
       "    <tr style=\"text-align: right;\">\n",
       "      <th></th>\n",
       "      <th>Date</th>\n",
       "      <th>Title</th>\n",
       "      <th>Price</th>\n",
       "    </tr>\n",
       "  </thead>\n",
       "  <tbody>\n",
       "    <tr>\n",
       "      <th>0</th>\n",
       "      <td>2021-09-30</td>\n",
       "      <td>Black Face Mask 100pcs Disposable Masks Breath...</td>\n",
       "      <td>3.98</td>\n",
       "    </tr>\n",
       "    <tr>\n",
       "      <th>1</th>\n",
       "      <td>2021-09-30</td>\n",
       "      <td>Black Face Mask 100pcs Disposable Masks Breath...</td>\n",
       "      <td>3.98</td>\n",
       "    </tr>\n",
       "  </tbody>\n",
       "</table>\n",
       "</div>"
      ],
      "text/plain": [
       "         Date                                              Title  Price\n",
       "0  2021-09-30  Black Face Mask 100pcs Disposable Masks Breath...   3.98\n",
       "1  2021-09-30  Black Face Mask 100pcs Disposable Masks Breath...   3.98"
      ]
     },
     "metadata": {},
     "execution_count": 25
    }
   ],
   "metadata": {}
  },
  {
   "cell_type": "code",
   "execution_count": 24,
   "source": [
    "#Appending data to csv\n",
    "\n",
    "with open('AmazonWebScraperDataset.csv', 'a+', newline='', encoding='UTF8') as x:\n",
    "    writer = csv.writer(x)\n",
    "    writer.writerow(data)"
   ],
   "outputs": [],
   "metadata": {}
  },
  {
   "cell_type": "code",
   "execution_count": null,
   "source": [
    "#Function to append new code\n",
    "\n",
    "def check_price():\n",
    "    URL = 'https://www.amazon.com/100pcs-Disposable-Breathable-Filter-Elastic/dp/B08GS4CNWB'\n",
    "    headers = {\"User-Agent\": \"Mozilla/5.0 (Macintosh; Intel Mac OS X 10_15_7) AppleWebKit/605.1.15 (KHTML, like Gecko) Version/14.1.2 Safari/605.1.15\",  \"Accept-Encoding\":\"gzip, deflate\", \"Accept\":\"text/html,application/xhtml+xml,application/xml;q=0.9,*/*;q=0.8\", \"DNT\":\"1\",\"Connection\":\"close\", \"Upgrade-Insecure-Requests\":\"1\"}\n",
    "    page = requests.get(URL, headers=headers)\n",
    "    soup1 = BeautifulSoup(page.content, \"lxml\")\n",
    "    soup2 = BeautifulSoup(soup1.prettify(), \"lxml\")\n",
    "    title = soup2.find(id='productTitle').get_text()\n",
    "    price = soup2.find(id='priceblock_dealprice').get_text()\n",
    "    title = title.strip()\n",
    "    price = price.strip()[1:]\n",
    "    import datetime\n",
    "    today = datetime.date.today()\n",
    "    import csv\n",
    "    header = ['Date', 'Title', 'Price']\n",
    "    data = [today, title, price]\n",
    "    with open('AmazonWebScraperDataset.csv', 'w', newline='', encoding='UTF8') as x:\n",
    "        writer = csv.writer(x)\n",
    "        writer.writerow(data)\n",
    "    if (price < 10):\n",
    "        send_mail()"
   ],
   "outputs": [],
   "metadata": {}
  },
  {
   "cell_type": "code",
   "execution_count": null,
   "source": [
    "#Rund function every 5 seconds\n",
    "\n",
    "while (True):\n",
    "    check_price()\n",
    "    time.sleep(5)"
   ],
   "outputs": [],
   "metadata": {}
  },
  {
   "cell_type": "code",
   "execution_count": 26,
   "source": [
    "#Send email when price falls under certain threshold\n",
    "\n",
    "def send_mail():\n",
    "    server = smtplib.SMTP_SSL('smtp.gmail.com',465)\n",
    "    server.ehlo()\n",
    "    server.login('xx email address xx','xx password xx')\n",
    "    subject = \"Item has dropped below set price\"\n",
    "    body = \"https://www.amazon.com/100pcs-Disposable-Breathable-Filter-Elastic/dp/B08GS4CNWB\"\n",
    "   \n",
    "    msg = f\"Subject: {subject}\\n\\n{body}\"\n",
    "    \n",
    "    server.sendmail(\n",
    "        'xx email address xx',\n",
    "        msg\n",
    "    )\n"
   ],
   "outputs": [],
   "metadata": {}
  }
 ],
 "metadata": {
  "orig_nbformat": 4,
  "language_info": {
   "name": "python",
   "version": "3.8.10",
   "mimetype": "text/x-python",
   "codemirror_mode": {
    "name": "ipython",
    "version": 3
   },
   "pygments_lexer": "ipython3",
   "nbconvert_exporter": "python",
   "file_extension": ".py"
  },
  "kernelspec": {
   "name": "python3",
   "display_name": "Python 3.8.10 64-bit ('tf_env': conda)"
  },
  "interpreter": {
   "hash": "bf912325453784d1c49ba8ef18d37d8d9bf6bc13b430a1f98592e2eacf55a6ef"
  }
 },
 "nbformat": 4,
 "nbformat_minor": 2
}